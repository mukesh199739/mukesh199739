{
 "cells": [
  {
   "cell_type": "code",
   "execution_count": 1,
   "metadata": {},
   "outputs": [],
   "source": [
    "import torch"
   ]
  },
  {
   "cell_type": "code",
   "execution_count": 2,
   "metadata": {},
   "outputs": [
    {
     "data": {
      "text/plain": [
       "tensor(1.00000e-42 *\n",
       "       [[ 0.0000,  0.0000,  0.0000],\n",
       "        [ 0.0000,  0.0000,  0.0000],\n",
       "        [ 0.0000,  0.0000,  0.0000],\n",
       "        [ 0.0000,  1.9954,  0.0000],\n",
       "        [ 0.0000,  0.5815,  0.0000]])"
      ]
     },
     "execution_count": 2,
     "metadata": {},
     "output_type": "execute_result"
    }
   ],
   "source": [
    "x=torch.empty(5,3)\n",
    "x"
   ]
  },
  {
   "cell_type": "code",
   "execution_count": 4,
   "metadata": {},
   "outputs": [
    {
     "data": {
      "text/plain": [
       "tensor([[ 0.1053,  0.5353,  0.8800],\n",
       "        [ 0.9853,  0.9285,  0.6932],\n",
       "        [ 0.4308,  0.7316,  0.2367],\n",
       "        [ 0.4415,  0.7189,  0.4075],\n",
       "        [ 0.2916,  0.3506,  0.8317]])"
      ]
     },
     "execution_count": 4,
     "metadata": {},
     "output_type": "execute_result"
    }
   ],
   "source": [
    "x=torch.rand(5,3)\n",
    "x\n"
   ]
  },
  {
   "cell_type": "code",
   "execution_count": 8,
   "metadata": {},
   "outputs": [
    {
     "data": {
      "text/plain": [
       "tensor([[ 0,  0,  0],\n",
       "        [ 0,  0,  0],\n",
       "        [ 0,  0,  0],\n",
       "        [ 0,  0,  0],\n",
       "        [ 0,  0,  0]])"
      ]
     },
     "execution_count": 8,
     "metadata": {},
     "output_type": "execute_result"
    }
   ],
   "source": [
    "x=torch.zeros(5,3,dtype=torch.long)\n",
    "x\n"
   ]
  },
  {
   "cell_type": "code",
   "execution_count": 9,
   "metadata": {},
   "outputs": [
    {
     "data": {
      "text/plain": [
       "tensor([ 5.6780,  4.3200])"
      ]
     },
     "execution_count": 9,
     "metadata": {},
     "output_type": "execute_result"
    }
   ],
   "source": [
    "torch.tensor([5.678,4.32])"
   ]
  },
  {
   "cell_type": "code",
   "execution_count": 13,
   "metadata": {},
   "outputs": [],
   "source": [
    "x=torch.rand(5,4)\n",
    "y=torch.rand(5,4)"
   ]
  },
  {
   "cell_type": "code",
   "execution_count": 14,
   "metadata": {},
   "outputs": [
    {
     "name": "stdout",
     "output_type": "stream",
     "text": [
      "tensor([[ 1.0064,  0.4612,  1.5594,  0.8955],\n",
      "        [ 1.1028,  1.6567,  1.3924,  0.2522],\n",
      "        [ 1.6315,  0.2650,  0.5116,  1.3129],\n",
      "        [ 1.0971,  0.1237,  0.9263,  0.8535],\n",
      "        [ 1.2980,  0.6658,  0.9882,  1.0104]])\n"
     ]
    }
   ],
   "source": [
    "print(x+y)\n"
   ]
  },
  {
   "cell_type": "code",
   "execution_count": 15,
   "metadata": {},
   "outputs": [
    {
     "name": "stdout",
     "output_type": "stream",
     "text": [
      "tensor([[ 1.0064,  0.4612,  1.5594,  0.8955],\n",
      "        [ 1.1028,  1.6567,  1.3924,  0.2522],\n",
      "        [ 1.6315,  0.2650,  0.5116,  1.3129],\n",
      "        [ 1.0971,  0.1237,  0.9263,  0.8535],\n",
      "        [ 1.2980,  0.6658,  0.9882,  1.0104]])\n"
     ]
    }
   ],
   "source": [
    "print(torch.add(x,y))"
   ]
  },
  {
   "cell_type": "code",
   "execution_count": 16,
   "metadata": {},
   "outputs": [
    {
     "data": {
      "text/plain": [
       "tensor([[ 1.0064,  0.4612,  1.5594,  0.8955],\n",
       "        [ 1.1028,  1.6567,  1.3924,  0.2522],\n",
       "        [ 1.6315,  0.2650,  0.5116,  1.3129],\n",
       "        [ 1.0971,  0.1237,  0.9263,  0.8535],\n",
       "        [ 1.2980,  0.6658,  0.9882,  1.0104]])"
      ]
     },
     "execution_count": 16,
     "metadata": {},
     "output_type": "execute_result"
    }
   ],
   "source": [
    "result=torch.empty(5,4)\n",
    "torch.add(x,y,out=result)"
   ]
  },
  {
   "cell_type": "code",
   "execution_count": 18,
   "metadata": {},
   "outputs": [
    {
     "data": {
      "text/plain": [
       "tensor([[ 1.3756,  0.7406,  2.3380,  1.7678],\n",
       "        [ 1.6209,  2.5281,  1.7935,  0.3663],\n",
       "        [ 2.5417,  0.3258,  0.8975,  2.1289],\n",
       "        [ 1.2966,  0.1661,  1.4856,  1.4915],\n",
       "        [ 1.7057,  0.7714,  1.6637,  1.9921]])"
      ]
     },
     "execution_count": 18,
     "metadata": {},
     "output_type": "execute_result"
    }
   ],
   "source": [
    "y=y+x\n",
    "y"
   ]
  },
  {
   "cell_type": "code",
   "execution_count": 22,
   "metadata": {},
   "outputs": [
    {
     "name": "stdout",
     "output_type": "stream",
     "text": [
      "tensor([ 0.8975,  1.4856])\n"
     ]
    }
   ],
   "source": [
    "print(y[2:4,2])"
   ]
  },
  {
   "cell_type": "code",
   "execution_count": 39,
   "metadata": {},
   "outputs": [
    {
     "name": "stdout",
     "output_type": "stream",
     "text": [
      "tensor([[ 1.,  1.],\n",
      "        [ 1.,  1.]])\n"
     ]
    }
   ],
   "source": [
    "x=torch.ones(2,2, requires_grad=True)\n",
    "print(x)\n",
    "z=torch.ones(2,2,requires_grad=True)"
   ]
  },
  {
   "cell_type": "code",
   "execution_count": 40,
   "metadata": {},
   "outputs": [],
   "source": [
    "y=(4*x)+2+(5*z);"
   ]
  },
  {
   "cell_type": "code",
   "execution_count": 41,
   "metadata": {},
   "outputs": [],
   "source": [
    "y.backward(x)\n",
    "y.backward(z)"
   ]
  },
  {
   "cell_type": "code",
   "execution_count": 43,
   "metadata": {},
   "outputs": [
    {
     "name": "stdout",
     "output_type": "stream",
     "text": [
      "tensor([[ 8.,  8.],\n",
      "        [ 8.,  8.]])\n",
      "tensor([[ 10.,  10.],\n",
      "        [ 10.,  10.]])\n"
     ]
    }
   ],
   "source": [
    "print(x.grad)\n",
    "print(z.grad)"
   ]
  },
  {
   "cell_type": "code",
   "execution_count": null,
   "metadata": {},
   "outputs": [],
   "source": []
  }
 ],
 "metadata": {
  "kernelspec": {
   "display_name": "Python 3",
   "language": "python",
   "name": "python3"
  },
  "language_info": {
   "codemirror_mode": {
    "name": "ipython",
    "version": 3
   },
   "file_extension": ".py",
   "mimetype": "text/x-python",
   "name": "python",
   "nbconvert_exporter": "python",
   "pygments_lexer": "ipython3",
   "version": "3.6.4"
  }
 },
 "nbformat": 4,
 "nbformat_minor": 2
}
